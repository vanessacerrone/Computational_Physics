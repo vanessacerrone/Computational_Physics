{
 "metadata": {
  "language_info": {
   "codemirror_mode": {
    "name": "ipython",
    "version": 3
   },
   "file_extension": ".py",
   "mimetype": "text/x-python",
   "name": "python",
   "nbconvert_exporter": "python",
   "pygments_lexer": "ipython3",
   "version": "3.8.7"
  },
  "orig_nbformat": 2,
  "kernelspec": {
   "name": "python387jvsc74a57bd0082e9a3bcad0a290d0001e938aa60b99250c6c2ef33a923c00b70f9826caf4b7",
   "display_name": "Python 3.8.7 64-bit ('3.8')"
  },
  "metadata": {
   "interpreter": {
    "hash": "082e9a3bcad0a290d0001e938aa60b99250c6c2ef33a923c00b70f9826caf4b7"
   }
  }
 },
 "nbformat": 4,
 "nbformat_minor": 2,
 "cells": [
  {
   "source": [
    "# 2D time dependent Schrödinger equation \n",
    "## Numerical solution\n",
    "The main goal of this script is to numerically solve the 2D time-dependent Schrödinger equation for a particle that interacts with a 2D potential barrier. The particle (we assume an electron) is best described as a wave packet, so we have to solve the Schrödinger equation for both its spatial and time dependence. We'll use atomic units, so that $m = 1$ and $\\hbar = 1$. \n",
    "\n",
    "We model the electron initially localized in space at $(x,y) = (x_0,y_0)$ with momentum $\\vec{k}=(k_x.k_y) $ with a wave function that is a gaussian wave packet, defined by: \n",
    "\n",
    "\n",
    "\\begin{equation}\n",
    "\\psi(x,y,t=0) = \\text{e}^{-i (k_ x \\cdot x + k_ y \\cdot y)} \\cdot \\text{e}^{-\\frac{(x-x_0)^2 + (y-y_0)^2}{2\\sigma^2}}\n",
    "\\end{equation}\n",
    "\n",
    "For the sake of simplicity we assume that the gaussian wave packet has the same width both in the x an y directions, but it can be easily modified in order to have $\\sigma_x \\not= \\sigma_y $. \n",
    "\n",
    "We have to numerically solve, using the Crank Nicholson method, the 2D time-dependent Schrödinger's eqaution, which has the following form: \n",
    "\n",
    "\\begin{equation}\n",
    "i \\hbar \\frac{\\partial \\psi(x,y,t)}{\\partial t}  = \\frac{-\\hbar^2}{2m}\\left( \\frac{\\partial ^2}{\\partial x^2} + \\frac{\\partial ^2}{\\partial y^2} \\right)  \\psi(x,t) + V(x,y)\\psi(x,y,t) \n",
    "\\end{equation}\n",
    "\n",
    "\n",
    "To solve our 2D PDE numerically, we apply both spatial a time discretization: \n",
    "- we consider a 2-dimensiomal spatial grid, with $N_x$ points in the x direction and $N_y$ in the y direction;\n",
    "- each point $(x,y)$ is described by $x=j \\cdot dx$ and $y=i \\cdot dy$ where $i,j = 0,1,...,N-1$ (if $N_x=N_y=N$)\n",
    "- we divide the time domain into $N_t$ equally spaced intervals (time step = dt).\n",
    "\n",
    "Therefore, the wave function $\\psi(x,y,t)$ describing the system at a given spatial point and instant in time will be $ \\psi ^{n}_{i,j}$ where $i$ and $j$ are the spatial indexes and n the temporal one ($n = 0,1,...,N_t-1$).\n",
    "\n",
    "Similarly to the 1-dimensional case, we define the partial derivatives according to the Crank Nicholson method: \n",
    "\n",
    "\\begin{equation}\n",
    "\n",
    "\\frac{\\partial \\psi}{\\partial t} = \\frac{\\psi_{i}^{(n+1)} - \\psi_{i}^{(n)}}{dt} \\\\\n",
    "\n",
    "\\frac{\\partial^2 \\psi}{\\partial x^2} = \\frac{\\psi_{i,j+1}^{(n)} - 2 \\psi_{i,j}^{(n)} + \\psi_{i,j-1}^{(n)} + \\psi_{i,j+1}^{(n+1)} -2 \\psi_{i,j}^{(n+1)} + \\psi_{i,j-1}^{(n+1)} }{2dx^2} \\\\\n",
    "\n",
    "\\frac{\\partial^2 \\psi}{\\partial y^2} = \\frac{\\psi_{i+1,j}^{(n)} - 2 \\psi_{i,j}^{(n)} + \\psi_{i-1,j}^{(n)} + \\psi_{i+1,j}^{(n+1)} -2 \\psi_{i,j}^{(n+1)} + \\psi_{i-1,j}^{(n+1)} }{2dy^2} \\\\\n",
    "\n",
    "\n",
    "\n",
    "\\end{equation}\n",
    "\n",
    "\n",
    "We now define the following constants:\n",
    "\\begin{equation}\n",
    "\\alpha_x = -\\frac{dt}{2i \\cdot dx^2} \\quad \\quad \\alpha_y = -\\frac{dt}{2i \\cdot dy^2}\n",
    "\\end{equation}\n",
    "\n",
    "Thus we write the future $n+1$ wave function values on the left-hand side in function of the present $n$ values on the right-hand side, so that it's possible to rewrite the equation in the matrix form. At this point we have equations that are in the form $A \\textbf{x} = \\textbf{b}$, where A is a constant matrix, $\\textbf{x}$ is a column vector that represents the wave function in the next time step and $ \\textbf{b} = M \\textbf{y}$, with M another constant matrix and $\\textbf{y}$  column vector representing the WF in the current time step. The A matrix is composed of tridiagonal blocks and diagonal blocks where there are N diagonal elements and they are equal to $−\\alpha_y$\n",
    "\n",
    "Our particle is restricted in a 2D square box, so we have the following boundary conditions that we'll be implemented in the code: $\\psi^{n}_{0,j}=\\psi^{n}_{i,0}=\\psi^{n}_{N-1,j}=\\psi^{n}_{i,N-1}$, where $N-1=N_x-1=N_y-1$ is the is the maximum value of the indexes.\n",
    "\n",
    "In order to have the elements of the $ \\textbf{x}$ column vector as a function of one only lower index, we can define a new index $k=(i−1)(N−2)+(j−1)$ so that $\\psi^{n}_{i,j} = \\psi^{n}_{k}$.\n"
   ],
   "cell_type": "markdown",
   "metadata": {}
  }
 ]
}